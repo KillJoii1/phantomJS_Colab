{
  "nbformat": 4,
  "nbformat_minor": 0,
  "metadata": {
    "colab": {
      "name": "phantomJS.ipynb",
      "provenance": [],
      "collapsed_sections": [],
      "include_colab_link": true
    },
    "kernelspec": {
      "name": "python3",
      "display_name": "Python 3"
    },
    "language_info": {
      "name": "python"
    },
    "accelerator": "GPU",
    "gpuClass": "standard"
  },
  "cells": [
    {
      "cell_type": "markdown",
      "metadata": {
        "id": "view-in-github",
        "colab_type": "text"
      },
      "source": [
        "<a href=\"https://colab.research.google.com/github/KillJoii1/phantomJS_Colab/blob/master/phantomJS.ipynb\" target=\"_parent\"><img src=\"https://colab.research.google.com/assets/colab-badge.svg\" alt=\"Open In Colab\"/></a>"
      ]
    },
    {
      "cell_type": "code",
      "metadata": {
        "colab": {
          "base_uri": "https://localhost:8080/"
        },
        "id": "WilyQSVN1oR_",
        "outputId": "c0c108ff-7578-4ba1-faf7-ae5b7675f2dc"
      },
      "source": [
        "#Install Python PhantomJS\n",
        "!pip install phantomjs\n",
        "\n",
        "#Download PhantomJS binaries\n",
        "!wget https://bitbucket.org/ariya/phantomjs/downloads/phantomjs-2.1.1-linux-x86_64.tar.bz2\n",
        "\n",
        "#Extract downloaded file\n",
        "!tar -xjf phantomjs-2.1.1-linux-x86_64.tar.bz2\n",
        "\n",
        "#Copy PhantomJS binary file to /usr/bin\n",
        "!cp /content/phantomjs-2.1.1-linux-x86_64/bin/phantomjs /usr/bin"
      ],
      "execution_count": null,
      "outputs": [
        {
          "output_type": "stream",
          "text": [
            "Collecting phantomjs\n",
            "  Downloading https://files.pythonhosted.org/packages/df/4c/20e33557f357ef668a6528dc214e6d4528b69c946248bc40dba3e7fb6815/phantomjs-1.4.1-py3-none-any.whl\n",
            "Installing collected packages: phantomjs\n",
            "Successfully installed phantomjs-1.4.1\n"
          ],
          "name": "stdout"
        }
      ]
    },
    {
      "cell_type": "code",
      "metadata": {
        "colab": {
          "base_uri": "https://localhost:8080/"
        },
        "id": "QVFzZlbZ2eKX",
        "outputId": "3dd34181-cbdb-4bb3-bee5-48fac3f738c4"
      },
      "source": [
        "from phantomjs import Phantom\n",
        "phantom = Phantom()\n",
        "\n",
        "conf = {\n",
        "    'url': 'https://www.studyabroadapartments.com/listings/rome/',   # Mandatory field\n",
        "}\n",
        "output = phantom.download_page(conf, js_path='/content/innerHTML.js')"
      ],
      "execution_count": null,
      "outputs": [
        {
          "output_type": "stream",
          "name": "stderr",
          "text": [
            "b\"Can't open '/content/innerHTML.js'\\n\"\n"
          ]
        }
      ]
    },
    {
      "cell_type": "code",
      "metadata": {
        "id": "KHpPkdQp2vZ3",
        "colab": {
          "base_uri": "https://localhost:8080/",
          "height": 235
        },
        "outputId": "ad58d371-6cbd-4391-8b21-3db12abae1e1"
      },
      "source": [
        "from bs4 import BeautifulSoup\n",
        "\n",
        "f = open(\"output.html\", \"r\")\n",
        "\n",
        "soup = BeautifulSoup(f.read(), 'html.parser')\n",
        "\n",
        "print(soup)"
      ],
      "execution_count": null,
      "outputs": [
        {
          "output_type": "error",
          "ename": "FileNotFoundError",
          "evalue": "ignored",
          "traceback": [
            "\u001b[0;31m---------------------------------------------------------------------------\u001b[0m",
            "\u001b[0;31mFileNotFoundError\u001b[0m                         Traceback (most recent call last)",
            "\u001b[0;32m<ipython-input-15-4176fb4385b1>\u001b[0m in \u001b[0;36m<module>\u001b[0;34m()\u001b[0m\n\u001b[1;32m      1\u001b[0m \u001b[0;32mfrom\u001b[0m \u001b[0mbs4\u001b[0m \u001b[0;32mimport\u001b[0m \u001b[0mBeautifulSoup\u001b[0m\u001b[0;34m\u001b[0m\u001b[0;34m\u001b[0m\u001b[0m\n\u001b[1;32m      2\u001b[0m \u001b[0;34m\u001b[0m\u001b[0m\n\u001b[0;32m----> 3\u001b[0;31m \u001b[0mf\u001b[0m \u001b[0;34m=\u001b[0m \u001b[0mopen\u001b[0m\u001b[0;34m(\u001b[0m\u001b[0;34m\"output.html\"\u001b[0m\u001b[0;34m,\u001b[0m \u001b[0;34m\"r\"\u001b[0m\u001b[0;34m)\u001b[0m\u001b[0;34m\u001b[0m\u001b[0;34m\u001b[0m\u001b[0m\n\u001b[0m\u001b[1;32m      4\u001b[0m \u001b[0;34m\u001b[0m\u001b[0m\n\u001b[1;32m      5\u001b[0m \u001b[0msoup\u001b[0m \u001b[0;34m=\u001b[0m \u001b[0mBeautifulSoup\u001b[0m\u001b[0;34m(\u001b[0m\u001b[0mf\u001b[0m\u001b[0;34m.\u001b[0m\u001b[0mread\u001b[0m\u001b[0;34m(\u001b[0m\u001b[0;34m)\u001b[0m\u001b[0;34m,\u001b[0m \u001b[0;34m'html.parser'\u001b[0m\u001b[0;34m)\u001b[0m\u001b[0;34m\u001b[0m\u001b[0;34m\u001b[0m\u001b[0m\n",
            "\u001b[0;31mFileNotFoundError\u001b[0m: [Errno 2] No such file or directory: 'output.html'"
          ]
        }
      ]
    }
  ]
}